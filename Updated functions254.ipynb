{
 "cells": [
  {
   "cell_type": "code",
   "execution_count": 11,
   "metadata": {},
   "outputs": [
    {
     "name": "stdout",
     "output_type": "stream",
     "text": [
      "2016Census_G02_SA_POA\n"
     ]
    }
   ],
   "source": [
    "import pandas as pd\n",
    "import pymysql\n",
    "import datetime"
   ]
  },
  {
   "cell_type": "code",
   "execution_count": null,
   "metadata": {
    "collapsed": true
   },
   "outputs": [],
   "source": [
    "##Dont Use. Just for test purposes\n",
    "import json\n",
    "with open('C:\\\\Users\\Arjun\\Desktop\\poa\\Output_Table_names.txt','r') as f:\n",
    "    myDictLoaded = json.load(f)\n",
    "print(myDictLoaded[1][0])\n",
    "tablenames = [i[0] for i in myDictLoaded]"
   ]
  },
  {
   "cell_type": "code",
   "execution_count": 13,
   "metadata": {
    "collapsed": true
   },
   "outputs": [],
   "source": [
    "# Creating a connection to the database.\n",
    "def openMySqlConnection(host, port, dbname, user, password):\n",
    "    conn = pymysql.connect(host, user=user,port=port,passwd=password, db=dbname)\n",
    "    return conn\n"
   ]
  },
  {
   "cell_type": "code",
   "execution_count": 14,
   "metadata": {
    "collapsed": true
   },
   "outputs": [],
   "source": [
    "# Closes the connection to the database.\n",
    "def closeMySqlConnection(conn):\n",
    "    conn.close()"
   ]
  },
  {
   "cell_type": "code",
   "execution_count": 15,
   "metadata": {
    "collapsed": true
   },
   "outputs": [],
   "source": [
    "# Creating a new user in the Tableau Database and granting them basic privileges to view present tables.\n",
    "def createUser(userName, userPass, tablenames):\n",
    "    try:\n",
    "        conn = newConnection()\n",
    "        stmntNewUser = \"CREATE USER IF NOT EXISTS '\" + userName + \"'@'%'\" + \" IDENTIFIED BY '\" + userPass + \"';\"\n",
    "        with conn.cursor() as cursor:\n",
    "            sql = stmntNewUser\n",
    "            cursor.execute(sql)\n",
    "            \n",
    "        for i in range(len(tablenames)):\n",
    "            with conn.cursor() as cursor:\n",
    "                stmntNewUser = \"Grant SELECT on DataSparkDataBase.\"+tablenames[i]+\" TO '\"+userName+\"'@'%' ;\"\n",
    "                cursor.execute(stmntNewUser)\n",
    "        \n",
    "    finally:\n",
    "        closeMySqlConnection(conn)\n"
   ]
  },
  {
   "cell_type": "code",
   "execution_count": 35,
   "metadata": {
    "collapsed": true
   },
   "outputs": [],
   "source": [
    "# Creating a user specified view\n",
    "def createView(tablenames, columnNames, viewName, userName, databaseName):\n",
    "    now = datetime.datetime.now()\n",
    "    #Adding time of view creation to the view name to reduce the probability that 2 users have the same view name\n",
    "    a = \"_\"+str(now.day)+\"_\"+str(now.month)+\"_\"+str(now.year)+\"_\"+str(now.hour)+\"_\"+str(now.minute)+\"_\"+str(now.second)\n",
    "    \n",
    "    try:\n",
    "        conn = newConnection()\n",
    "        conn1 = newConnection()\n",
    "        #The Following Creates  the view statement user has requested\n",
    "        stmt = \"Create view \" + viewName + a + \" as\"\n",
    "        selectstmt = \" select \" + tablenames[0]+\".POA_CODE_2016, \"\n",
    "        \n",
    "        for i in columnNames:\n",
    "            if(i!=\"POA_CODE_2016\"):\n",
    "                selectstmt += i + \", \"\n",
    "        selectstmt=selectstmt[:-2]\n",
    "        selectstmt+= \" from \"\n",
    "        \n",
    "        for i in tablenames:\n",
    "            selectstmt+= i + \", \"\n",
    "        selectstmt=selectstmt[:-2]\n",
    "        if(len(tablenames)>1):\n",
    "            selectstmt+= \" where \"\n",
    "            for j in range(len(tablenames)-1):\n",
    "                selectstmt+= tablenames[0]+\".POA_CODE_2016 = \" + tablenames[j+1] + \".POA_CODE_2016 AND \"\n",
    "        \n",
    "        selectstmt=selectstmt[:-4]\n",
    "        stmt= stmt + selectstmt\n",
    "        pvtstmt = ''\n",
    "        #Creating the pivoted view using union all command as MYSQL doesn't have the Pivot funciton inbuilt\n",
    "        \n",
    "        for i in range(len(columnNames)-1):\n",
    "            pvtstmt = pvtstmt+ 'SELECT POA_CODE_2016, \\''+columnNames[i+1]+'\\' Attributes, '+columnNames[i+1]+' val from ('+selectstmt+') p union all '\n",
    "        pvtstmt=pvtstmt[:-11]\n",
    "        pvtstmt = \"Create view pivoted_\"+ viewName + a + \" as \" + pvtstmt\n",
    "        \n",
    "        with conn.cursor() as cursor:\n",
    "            cursor.execute(stmt)\n",
    "            cursor.execute(pvtstmt)\n",
    "        # Granting permissions to both the views created\n",
    "        grantPermissions(databaseName, viewName+a, userName)\n",
    "        grantPermissions(databaseName, 'pivoted_'+viewName+a, userName)\n",
    "    finally:\n",
    "        closeMySqlConnection(conn)\n",
    "        return stmt\n"
   ]
  },
  {
   "cell_type": "code",
   "execution_count": 17,
   "metadata": {
    "collapsed": true
   },
   "outputs": [],
   "source": [
    "#Gives permissions in a specif view\n",
    "def grantPermissions(databaseName, viewName, userName):\n",
    "    stmnt = \"GRANT ALL ON \" + databaseName + \".\" + viewName + \" TO '\" + userName + \"'@'%';\"\n",
    "    try:\n",
    "        conn = newConnection()\n",
    "        with conn.cursor() as cursor:\n",
    "            sql = stmnt\n",
    "            cursor.execute(sql)\n",
    "    finally:\n",
    "        closeMySqlConnection(conn)\n"
   ]
  },
  {
   "cell_type": "code",
   "execution_count": 18,
   "metadata": {
    "collapsed": true
   },
   "outputs": [],
   "source": [
    "#This function revokes permissions of a user\n",
    "def revokePermissions(userName):\n",
    "    stmnt = \"REVOKE ALL PRIVILEGES ON *.* FROM '\" + userName + \"'@'%';\"\n",
    "    try:\n",
    "        conn = newConnection()\n",
    "        with conn.cursor() as cursor:\n",
    "            sql = stmnt\n",
    "            cursor.execute(sql)\n",
    "    finally:\n",
    "        closeMySqlConnection(conn)"
   ]
  },
  {
   "cell_type": "code",
   "execution_count": 19,
   "metadata": {
    "collapsed": true
   },
   "outputs": [],
   "source": [
    "#This creates a connection to the database\n",
    "def newConnection():\n",
    "    host = \"datasparkdb.cbbvbxlm9nap.us-east-1.rds.amazonaws.com\"\n",
    "    port = 3306\n",
    "    dbname = \"DataSparkDataBase\"\n",
    "    user = \"aarasu\"\n",
    "    password = \"aabbccdd1234\"\n",
    "    conn = openMySqlConnection(host, port, dbname, user, password)\n",
    "    return conn"
   ]
  },
  {
   "cell_type": "code",
   "execution_count": 20,
   "metadata": {
    "collapsed": true
   },
   "outputs": [],
   "source": [
    "#This function will \n",
    "def getTableNames(tclist):\n",
    "    tableList = []\n",
    "    uTableList = [item[0] for item in tclist]\n",
    "    for i in uTableList:\n",
    "        if i not in tableList:\n",
    "            tableList.append(i)\n",
    "    return tableList\n",
    "            "
   ]
  },
  {
   "cell_type": "code",
   "execution_count": 21,
   "metadata": {
    "collapsed": true
   },
   "outputs": [],
   "source": [
    "#This returns a list of all columns of the tables present in the list\n",
    "def getColumnNames(tclist):\n",
    "    uColumnList = [item[1] for item in tclist]\n",
    "    return uColumnList"
   ]
  },
  {
   "cell_type": "code",
   "execution_count": 22,
   "metadata": {
    "collapsed": true
   },
   "outputs": [],
   "source": [
    "#Retrieves the Views accessable by the user\n",
    "def getViewNames(username, password):\n",
    "    try:\n",
    "        conn = pymysql.connect(\"datasparkdb.cbbvbxlm9nap.us-east-1.rds.amazonaws.com\", user=username,port=3306,passwd=password, db=\"DataSparkDataBase\")\n",
    "        stmnt = \"SHOW FULL TABLES IN DataSparkDataBase WHERE TABLE_TYPE LIKE 'VIEW';\"\n",
    "        with conn.cursor() as cursor:\n",
    "            sql = stmnt\n",
    "            cursor.execute(sql)\n",
    "    finally:\n",
    "        closeMySqlConnection(conn)\n",
    "    viewNames = [i[0] for i in cursor.fetchall()]\n",
    "    return viewNames\n",
    "    \n",
    "    \n",
    "    "
   ]
  },
  {
   "cell_type": "code",
   "execution_count": 23,
   "metadata": {},
   "outputs": [
    {
     "name": "stdout",
     "output_type": "stream",
     "text": [
      "The connection is closed\n",
      "['G04V', 'G05V', 'ThursdayTest_19_4_2018_13_42_35_', 'View1_19_4_2018_15_13_25_', 'erick_selected_tables_columns', 'german2_selected_tables_columns', 'german_selected_tables_columns', 'm10_selected_tables_columns', 'mustafa2_selected_tables_columns', 'pivoted_v1', 'pivoted_v33_24_4_2018_18_40_45', 'pivoted_v34_24_4_2018_18_42_41', 'testztuesday_24_4_2018_17_24_26_', 'v33_24_4_2018_18_40_45', 'v34_24_4_2018_18_42_41', 'viewft1', 'viewgen3', 'viewgen5_18_4_2018_23_25_24_', 'viewgen5_18_4_2018_23_26_15_']\n"
     ]
    }
   ],
   "source": [
    "#Test\n",
    "a=getViewNames(\"aarasu\", \"aabbccdd1234\")\n",
    "print(a)"
   ]
  },
  {
   "cell_type": "code",
   "execution_count": 24,
   "metadata": {},
   "outputs": [
    {
     "name": "stdout",
     "output_type": "stream",
     "text": [
      "G04V\n"
     ]
    }
   ],
   "source": [
    "#Test\n",
    "print(a[:][0])"
   ]
  },
  {
   "cell_type": "code",
   "execution_count": 25,
   "metadata": {
    "collapsed": true
   },
   "outputs": [],
   "source": [
    "# This funciton deletes the views of a user.\n",
    "# viewname is a list of views\n",
    "def viewsDelete(username, password, viewname): \n",
    "    try:\n",
    "        conn = pymysql.connect(\"datasparkdb.cbbvbxlm9nap.us-east-1.rds.amazonaws.com\", user=username,port=3306,passwd=password, db=\"DataSparkDataBase\")\n",
    "        stmnt = \"Drop VIEW if exists \"\n",
    "        for i in viewname:\n",
    "            stmnt= stmnt + i +\", \" \n",
    "        stmnt = stmnt[:-2]\n",
    "        with conn.cursor() as cursor:\n",
    "            sql = stmnt\n",
    "            cursor.execute(sql)\n",
    "    finally:\n",
    "        closeMySqlConnection(conn)\n",
    "    return \"views Deleted\"\n",
    "     "
   ]
  },
  {
   "cell_type": "code",
   "execution_count": 26,
   "metadata": {
    "collapsed": true
   },
   "outputs": [],
   "source": [
    "#This function deletes all the views created by the user and deletes the user itself.\n",
    "def userDelete(username, password):\n",
    "    try:\n",
    "        conn = newConnection()\n",
    "        stmnt_1 = \"DROP USER IF EXISTS '\"+username+\"'@'%' ;\"\n",
    "        userViews = getViewNames(username, password)\n",
    "        UserViews_deleteStatus = viewsDelete(username, password, userviews)\n",
    "        \n",
    "        with conn.cursor() as cursor:\n",
    "            sql = stmnt_1\n",
    "            cursor.execute(sql)\n",
    "    finally:\n",
    "        closeMySqlConnection(conn)\n",
    "    \n",
    "            \n",
    "            \n",
    "            \n",
    "            "
   ]
  },
  {
   "cell_type": "code",
   "execution_count": 27,
   "metadata": {
    "collapsed": true
   },
   "outputs": [],
   "source": [
    "# This function updates the user's password.\n",
    "def userUpdatePassword(username, newPassword):\n",
    "    try:\n",
    "        conn = newConnection()\n",
    "        stmnt = \"ALTER USER '\"+username+\"'@'%' identified by '\"+newPassword+\"';\"\n",
    "        \n",
    "        with conn.cursor() as cursor:\n",
    "            sql = stmnt\n",
    "            cursor.execute(sql)\n",
    "    finally:\n",
    "        closeMySqlConnection(conn)\n",
    "    a = username+ \" password updated\"\n",
    "    return a\n",
    "            "
   ]
  },
  {
   "cell_type": "code",
   "execution_count": 28,
   "metadata": {},
   "outputs": [
    {
     "name": "stdout",
     "output_type": "stream",
     "text": [
      "The connection is open\n",
      "The connection is closed\n",
      "dummyuser1 password updated\n"
     ]
    }
   ],
   "source": [
    "u = userUpdatePassword('dummyuser1', 'abcdef1234')\n",
    "print(u)"
   ]
  },
  {
   "cell_type": "code",
   "execution_count": 30,
   "metadata": {},
   "outputs": [
    {
     "name": "stdout",
     "output_type": "stream",
     "text": [
      "The connection is open\n",
      "The connection is closed\n",
      "The connection is closed\n"
     ]
    }
   ],
   "source": [
    "userDelete(\"dummyuser1\",\"abcdef1234\")"
   ]
  },
  {
   "cell_type": "code",
   "execution_count": 31,
   "metadata": {
    "collapsed": true
   },
   "outputs": [],
   "source": [
    "# Checking whether a username exists in the list of active users.\n",
    "def checkUser(username):\n",
    "    try:\n",
    "        conn = newConnection()\n",
    "        stmntNewUser = \"SELECT EXISTS(SELECT 1 FROM mysql.user WHERE user = '\"+username+\"')\"\n",
    "\n",
    "        with conn.cursor() as cursor:\n",
    "            sql = stmntNewUser\n",
    "            #print(sql)\n",
    "            cursor.execute(sql)\n",
    "            viewNames = [i[0] for i in cursor.fetchall()]\n",
    "\n",
    "    finally:\n",
    "        closeMySqlConnection(conn)\n",
    "        return viewNames[0]"
   ]
  },
  {
   "cell_type": "code",
   "execution_count": 32,
   "metadata": {},
   "outputs": [
    {
     "name": "stdout",
     "output_type": "stream",
     "text": [
      "The connection is open\n",
      "CREATE USER IF NOT EXISTS 'dummyUser1'@'%' IDENTIFIED BY 'aabbccdd1234';\n",
      "The connection is closed\n",
      "User created\n"
     ]
    }
   ],
   "source": [
    "#Test\n",
    "createUser('dummyUser1', 'aabbccdd1234', tablenames)"
   ]
  },
  {
   "cell_type": "code",
   "execution_count": 36,
   "metadata": {},
   "outputs": [
    {
     "name": "stdout",
     "output_type": "stream",
     "text": [
      "The connection is open\n",
      "The connection is open\n",
      "hi1\n",
      "Create view VVii_25_4_2018_17_7_28 as select 2016Census_G02_SA_POA.POA_CODE_2016, Median_rent_weekly, Median_tot_fam_inc_weekly, Age_yr_61_M, Age_yr_85_89_M, Age_yr_95_99_P from 2016Census_G02_SA_POA, 2016Census_G04B_SA_POA where 2016Census_G02_SA_POA.POA_CODE_2016 = 2016Census_G04B_SA_POA.POA_CODE_2016 \n",
      "Create view pivoted_VVii_25_4_2018_17_7_28 as SELECT POA_CODE_2016, 'Median_tot_fam_inc_weekly' Attributes, Median_tot_fam_inc_weekly val from ( select 2016Census_G02_SA_POA.POA_CODE_2016, Median_rent_weekly, Median_tot_fam_inc_weekly, Age_yr_61_M, Age_yr_85_89_M, Age_yr_95_99_P from 2016Census_G02_SA_POA, 2016Census_G04B_SA_POA where 2016Census_G02_SA_POA.POA_CODE_2016 = 2016Census_G04B_SA_POA.POA_CODE_2016 ) p union all SELECT POA_CODE_2016, 'Age_yr_61_M' Attributes, Age_yr_61_M val from ( select 2016Census_G02_SA_POA.POA_CODE_2016, Median_rent_weekly, Median_tot_fam_inc_weekly, Age_yr_61_M, Age_yr_85_89_M, Age_yr_95_99_P from 2016Census_G02_SA_POA, 2016Census_G04B_SA_POA where 2016Census_G02_SA_POA.POA_CODE_2016 = 2016Census_G04B_SA_POA.POA_CODE_2016 ) p union all SELECT POA_CODE_2016, 'Age_yr_85_89_M' Attributes, Age_yr_85_89_M val from ( select 2016Census_G02_SA_POA.POA_CODE_2016, Median_rent_weekly, Median_tot_fam_inc_weekly, Age_yr_61_M, Age_yr_85_89_M, Age_yr_95_99_P from 2016Census_G02_SA_POA, 2016Census_G04B_SA_POA where 2016Census_G02_SA_POA.POA_CODE_2016 = 2016Census_G04B_SA_POA.POA_CODE_2016 ) p union all SELECT POA_CODE_2016, 'Age_yr_95_99_P' Attributes, Age_yr_95_99_P val from ( select 2016Census_G02_SA_POA.POA_CODE_2016, Median_rent_weekly, Median_tot_fam_inc_weekly, Age_yr_61_M, Age_yr_85_89_M, Age_yr_95_99_P from 2016Census_G02_SA_POA, 2016Census_G04B_SA_POA where 2016Census_G02_SA_POA.POA_CODE_2016 = 2016Census_G04B_SA_POA.POA_CODE_2016 ) p\n",
      "The connection is open\n",
      "The connection is closed\n",
      "Permission given\n",
      "The connection is open\n",
      "The connection is closed\n",
      "Permission given\n",
      "The connection is closed\n"
     ]
    }
   ],
   "source": [
    "#Test\n",
    "a = createView(['2016Census_G02_SA_POA','2016Census_G04B_SA_POA'],['Median_rent_weekly', 'Median_tot_fam_inc_weekly', 'Age_yr_61_M', 'Age_yr_85_89_M', 'Age_yr_95_99_P'], 'VVii', 'dummyUser1', 'DataSparkDataBase' )\n"
   ]
  },
  {
   "cell_type": "code",
   "execution_count": 38,
   "metadata": {},
   "outputs": [
    {
     "name": "stdout",
     "output_type": "stream",
     "text": [
      "The connection is closed\n",
      "['VVii_25_4_2018_17_7_28', 'pivoted_VVii_25_4_2018_17_7_28', 'vii_25_4_2018_17_5_14']\n"
     ]
    }
   ],
   "source": [
    "#Test\n",
    "a=getViewNames(\"dummyUser1\", \"aabbccdd1234\")\n",
    "print(a)"
   ]
  },
  {
   "cell_type": "code",
   "execution_count": null,
   "metadata": {
    "collapsed": true
   },
   "outputs": [],
   "source": []
  }
 ],
 "metadata": {
  "kernelspec": {
   "display_name": "Python 3",
   "language": "python",
   "name": "python3"
  },
  "language_info": {
   "codemirror_mode": {
    "name": "ipython",
    "version": 3
   },
   "file_extension": ".py",
   "mimetype": "text/x-python",
   "name": "python",
   "nbconvert_exporter": "python",
   "pygments_lexer": "ipython3",
   "version": "3.6.3"
  }
 },
 "nbformat": 4,
 "nbformat_minor": 2
}
