{
 "cells": [
  {
   "cell_type": "code",
   "execution_count": 1,
   "metadata": {},
   "outputs": [],
   "source": [
    "import json\n",
    "\n",
    "with open('C:\\\\Users\\Arjun\\Desktop\\poa\\Output_column_names.txt','r') as f:\n",
    "    myDictLoaded = json.load(f)"
   ]
  },
  {
   "cell_type": "code",
   "execution_count": 6,
   "metadata": {},
   "outputs": [],
   "source": [
    "#myDictLoaded['2016Census_G04B_SA_POA']"
   ]
  },
  {
   "cell_type": "code",
   "execution_count": 4,
   "metadata": {},
   "outputs": [],
   "source": [
    "def columnNames(tablenames, dicti):\n",
    "    a = []\n",
    "    for i in tablenames:\n",
    "        a+=dicti[i]\n",
    "    return a"
   ]
  },
  {
   "cell_type": "code",
   "execution_count": 8,
   "metadata": {},
   "outputs": [
    {
     "name": "stdout",
     "output_type": "stream",
     "text": [
      "[['POA_CODE_2016', 'Postal Code 2016'], ['Age_yr_0_M', 'Age_years_0_Males'], ['Age_yr_0_F', 'Age_years_0_Females'], ['Age_yr_0_P', 'Age_years_0_Persons'], ['Age_yr_1_M', 'Age_years_1_Males'], ['Age_yr_1_F', 'Age_years_1_Females'], ['Age_yr_1_P', 'Age_years_1_Persons'], ['Age_yr_2_M', 'Age_years_2_Males'], ['Age_yr_2_F', 'Age_years_2_Females'], ['Age_yr_2_P', 'Age_years_2_Persons'], ['Age_yr_3_M', 'Age_years_3_Males'], ['Age_yr_3_F', 'Age_years_3_Females'], ['Age_yr_3_P', 'Age_years_3_Persons'], ['Age_yr_4_M', 'Age_years_4_Males'], ['Age_yr_4_F', 'Age_years_4_Females'], ['Age_yr_4_P', 'Age_years_4_Persons'], ['Age_yr_0_4_M', 'Age_years_0_4_years_Males'], ['Age_yr_0_4_F', 'Age_years_0_4_years_Females'], ['Age_yr_0_4_P', 'Age_years_0_4_years_Persons'], ['Age_yr_5_M', 'Age_years_5_Males'], ['Age_yr_5_F', 'Age_years_5_Females'], ['Age_yr_5_P', 'Age_years_5_Persons'], ['Age_yr_6_M', 'Age_years_6_Males'], ['Age_yr_6_F', 'Age_years_6_Females'], ['Age_yr_6_P', 'Age_years_6_Persons'], ['Age_yr_7_M', 'Age_years_7_Males'], ['Age_yr_7_F', 'Age_years_7_Females'], ['Age_yr_7_P', 'Age_years_7_Persons'], ['Age_yr_8_M', 'Age_years_8_Males'], ['Age_yr_8_F', 'Age_years_8_Females'], ['Age_yr_8_P', 'Age_years_8_Persons'], ['Age_yr_9_M', 'Age_years_9_Males'], ['Age_yr_9_F', 'Age_years_9_Females'], ['Age_yr_9_P', 'Age_years_9_Persons'], ['Age_yr_5_9_M', 'Age_years_5_9_years_Males'], ['Age_yr_5_9_F', 'Age_years_5_9_years_Females'], ['Age_yr_5_9_P', 'Age_years_5_9_years_Persons'], ['Age_yr_10_M', 'Age_years_10_Males'], ['Age_yr_10_F', 'Age_years_10_Females'], ['Age_yr_10_P', 'Age_years_10_Persons'], ['Age_yr_11_M', 'Age_years_11_Males'], ['Age_yr_11_F', 'Age_years_11_Females'], ['Age_yr_11_P', 'Age_years_11_Persons'], ['Age_yr_12_M', 'Age_years_12_Males'], ['Age_yr_12_F', 'Age_years_12_Females'], ['Age_yr_12_P', 'Age_years_12_Persons'], ['Age_yr_13_M', 'Age_years_13_Males'], ['Age_yr_13_F', 'Age_years_13_Females'], ['Age_yr_13_P', 'Age_years_13_Persons'], ['Age_yr_14_M', 'Age_years_14_Males'], ['Age_yr_14_F', 'Age_years_14_Females'], ['Age_yr_14_P', 'Age_years_14_Persons'], ['Age_yr_10_14_M', 'Age_years_10_14_years_Males'], ['Age_yr_10_14_F', 'Age_years_10_14_years_Females'], ['Age_yr_10_14_P', 'Age_years_10_14_years_Persons'], ['Age_yr_15_M', 'Age_years_15_Males'], ['Age_yr_15_F', 'Age_years_15_Females'], ['Age_yr_15_P', 'Age_years_15_Persons'], ['Age_yr_16_M', 'Age_years_16_Males'], ['Age_yr_16_F', 'Age_years_16_Females'], ['Age_yr_16_P', 'Age_years_16_Persons'], ['Age_yr_17_M', 'Age_years_17_Males'], ['Age_yr_17_F', 'Age_years_17_Females'], ['Age_yr_17_P', 'Age_years_17_Persons'], ['Age_yr_18_M', 'Age_years_18_Males'], ['Age_yr_18_F', 'Age_years_18_Females'], ['Age_yr_18_P', 'Age_years_18_Persons'], ['Age_yr_19_M', 'Age_years_19_Males'], ['Age_yr_19_F', 'Age_years_19_Females'], ['Age_yr_19_P', 'Age_years_19_Persons'], ['Age_yr_15_19_M', 'Age_years_15_19_years_Males'], ['Age_yr_15_19_F', 'Age_years_15_19_years_Females'], ['Age_yr_15_19_P', 'Age_years_15_19_years_Persons'], ['Age_yr_20_M', 'Age_years_20_Males'], ['Age_yr_20_F', 'Age_years_20_Females'], ['Age_yr_20_P', 'Age_years_20_Persons'], ['Age_yr_21_M', 'Age_years_21_Males'], ['Age_yr_21_F', 'Age_years_21_Females'], ['Age_yr_21_P', 'Age_years_21_Persons'], ['Age_yr_22_M', 'Age_years_22_Males'], ['Age_yr_22_F', 'Age_years_22_Females'], ['Age_yr_22_P', 'Age_years_22_Persons'], ['Age_yr_23_M', 'Age_years_23_Males'], ['Age_yr_23_F', 'Age_years_23_Females'], ['Age_yr_23_P', 'Age_years_23_Persons'], ['Age_yr_24_M', 'Age_years_24_Males'], ['Age_yr_24_F', 'Age_years_24_Females'], ['Age_yr_24_P', 'Age_years_24_Persons'], ['Age_yr_20_24_M', 'Age_years_20_24_years_Males'], ['Age_yr_20_24_F', 'Age_years_20_24_years_Females'], ['Age_yr_20_24_P', 'Age_years_20_24_years_Persons'], ['Age_yr_25_M', 'Age_years_25_Males'], ['Age_yr_25_F', 'Age_years_25_Females'], ['Age_yr_25_P', 'Age_years_25_Persons'], ['Age_yr_26_M', 'Age_years_26_Males'], ['Age_yr_26_F', 'Age_years_26_Females'], ['Age_yr_26_P', 'Age_years_26_Persons'], ['Age_yr_27_M', 'Age_years_27_Males'], ['Age_yr_27_F', 'Age_years_27_Females'], ['Age_yr_27_P', 'Age_years_27_Persons'], ['Age_yr_28_M', 'Age_years_28_Males'], ['Age_yr_28_F', 'Age_years_28_Females'], ['Age_yr_28_P', 'Age_years_28_Persons'], ['Age_yr_29_M', 'Age_years_29_Males'], ['Age_yr_29_F', 'Age_years_29_Females'], ['Age_yr_29_P', 'Age_years_29_Persons'], ['Age_yr_25_29_M', 'Age_years_25_29_years_Males'], ['Age_yr_25_29_F', 'Age_years_25_29_years_Females'], ['Age_yr_25_29_P', 'Age_years_25_29_years_Persons'], ['Age_yr_30_M', 'Age_years_30_Males'], ['Age_yr_30_F', 'Age_years_30_Females'], ['Age_yr_30_P', 'Age_years_30_Persons'], ['Age_yr_31_M', 'Age_years_31_Males'], ['Age_yr_31_F', 'Age_years_31_Females'], ['Age_yr_31_P', 'Age_years_31_Persons'], ['Age_yr_32_M', 'Age_years_32_Males'], ['Age_yr_32_F', 'Age_years_32_Females'], ['Age_yr_32_P', 'Age_years_32_Persons'], ['Age_yr_33_M', 'Age_years_33_Males'], ['Age_yr_33_F', 'Age_years_33_Females'], ['Age_yr_33_P', 'Age_years_33_Persons'], ['Age_yr_34_M', 'Age_years_34_Males'], ['Age_yr_34_F', 'Age_years_34_Females'], ['Age_yr_34_P', 'Age_years_34_Persons'], ['Age_yr_30_34_M', 'Age_years_30_34_years_Males'], ['Age_yr_30_34_F', 'Age_years_30_34_years_Females'], ['Age_yr_30_34_P', 'Age_years_30_34_years_Persons'], ['Age_yr_35_M', 'Age_years_35_Males'], ['Age_yr_35_F', 'Age_years_35_Females'], ['Age_yr_35_P', 'Age_years_35_Persons'], ['Age_yr_36_M', 'Age_years_36_Males'], ['Age_yr_36_F', 'Age_years_36_Females'], ['Age_yr_36_P', 'Age_years_36_Persons'], ['Age_yr_37_M', 'Age_years_37_Males'], ['Age_yr_37_F', 'Age_years_37_Females'], ['Age_yr_37_P', 'Age_years_37_Persons'], ['Age_yr_38_M', 'Age_years_38_Males'], ['Age_yr_38_F', 'Age_years_38_Females'], ['Age_yr_38_P', 'Age_years_38_Persons'], ['Age_yr_39_M', 'Age_years_39_Males'], ['Age_yr_39_F', 'Age_years_39_Females'], ['Age_yr_39_P', 'Age_years_39_Persons'], ['Age_yr_35_39_M', 'Age_years_35_39_years_Males'], ['Age_yr_35_39_F', 'Age_years_35_39_years_Females'], ['Age_yr_35_39_P', 'Age_years_35_39_years_Persons'], ['Age_yr_40_M', 'Age_years_40_Males'], ['Age_yr_40_F', 'Age_years_40_Females'], ['Age_yr_40_P', 'Age_years_40_Persons'], ['Age_yr_41_M', 'Age_years_41_Males'], ['Age_yr_41_F', 'Age_years_41_Females'], ['Age_yr_41_P', 'Age_years_41_Persons'], ['Age_yr_42_M', 'Age_years_42_Males'], ['Age_yr_42_F', 'Age_years_42_Females'], ['Age_yr_42_P', 'Age_years_42_Persons'], ['Age_yr_43_M', 'Age_years_43_Males'], ['Age_yr_43_F', 'Age_years_43_Females'], ['Age_yr_43_P', 'Age_years_43_Persons'], ['Age_yr_44_M', 'Age_years_44_Males'], ['Age_yr_44_F', 'Age_years_44_Females'], ['Age_yr_44_P', 'Age_years_44_Persons'], ['Age_yr_40_44_M', 'Age_years_40_44_years_Males'], ['Age_yr_40_44_F', 'Age_years_40_44_years_Females'], ['Age_yr_40_44_P', 'Age_years_40_44_years_Persons'], ['Age_yr_45_M', 'Age_years_45_Males'], ['Age_yr_45_F', 'Age_years_45_Females'], ['Age_yr_45_P', 'Age_years_45_Persons'], ['Age_yr_46_M', 'Age_years_46_Males'], ['Age_yr_46_F', 'Age_years_46_Females'], ['Age_yr_46_P', 'Age_years_46_Persons'], ['Age_yr_47_M', 'Age_years_47_Males'], ['Age_yr_47_F', 'Age_years_47_Females'], ['Age_yr_47_P', 'Age_years_47_Persons'], ['Age_yr_48_M', 'Age_years_48_Males'], ['Age_yr_48_F', 'Age_years_48_Females'], ['Age_yr_48_P', 'Age_years_48_Persons'], ['Age_yr_49_M', 'Age_years_49_Males'], ['Age_yr_49_F', 'Age_years_49_Females'], ['Age_yr_49_P', 'Age_years_49_Persons'], ['Age_yr_45_49_M', 'Age_years_45_49_years_Males'], ['Age_yr_45_49_F', 'Age_years_45_49_years_Females'], ['Age_yr_45_49_P', 'Age_years_45_49_years_Persons'], ['Age_yr_50_M', 'Age_years_50_Males'], ['Age_yr_50_F', 'Age_years_50_Females'], ['Age_yr_50_P', 'Age_years_50_Persons'], ['Age_yr_51_M', 'Age_years_51_Males'], ['Age_yr_51_F', 'Age_years_51_Females'], ['Age_yr_51_P', 'Age_years_51_Persons'], ['Age_yr_52_M', 'Age_years_52_Males'], ['Age_yr_52_F', 'Age_years_52_Females'], ['Age_yr_52_P', 'Age_years_52_Persons'], ['Age_yr_53_M', 'Age_years_53_Males'], ['Age_yr_53_F', 'Age_years_53_Females'], ['Age_yr_53_P', 'Age_years_53_Persons'], ['Age_yr_54_M', 'Age_years_54_Males'], ['Age_yr_54_F', 'Age_years_54_Females'], ['Age_yr_54_P', 'Age_years_54_Persons'], ['Age_yr_50_54_M', 'Age_years_50_54_years_Males'], ['Age_yr_50_54_F', 'Age_years_50_54_years_Females'], ['Age_yr_50_54_P', 'Age_years_50_54_years_Persons'], ['Age_yr_55_M', 'Age_years_55_Males'], ['Age_yr_55_F', 'Age_years_55_Females'], ['POA_CODE_2016', 'Postal Code 2016'], ['Median_age_persons', 'Median_age_of_persons'], ['Median_mortgage_repay_monthly', 'Median_mortgage_repayment_monthly'], ['Median_tot_prsnl_inc_weekly', 'Median_total_personal_income_weekly'], ['Median_rent_weekly', 'Median_rent_weekly'], ['Median_tot_fam_inc_weekly', 'Median_total_family_income_weekly'], ['Average_num_psns_per_bedroom', 'Average_number_of_Persons_per_bedroom'], ['Median_tot_hhd_inc_weekly', 'Median_total_household_income_weekly'], ['Average_household_size', 'Average_household_size']]\n"
     ]
    }
   ],
   "source": [
    "t = ['2016Census_G04A_SA_POA', '2016Census_G02_SA_POA']\n",
    "print(columnNames(t, myDictLoaded))"
   ]
  },
  {
   "cell_type": "code",
   "execution_count": null,
   "metadata": {},
   "outputs": [],
   "source": []
  }
 ],
 "metadata": {
  "kernelspec": {
   "display_name": "Python 3",
   "language": "python",
   "name": "python3"
  },
  "language_info": {
   "codemirror_mode": {
    "name": "ipython",
    "version": 3
   },
   "file_extension": ".py",
   "mimetype": "text/x-python",
   "name": "python",
   "nbconvert_exporter": "python",
   "pygments_lexer": "ipython3",
   "version": "3.6.4"
  }
 },
 "nbformat": 4,
 "nbformat_minor": 2
}
