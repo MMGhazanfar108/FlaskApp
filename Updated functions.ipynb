{
 "cells": [
  {
   "cell_type": "code",
   "execution_count": 1,
   "metadata": {
    "collapsed": true
   },
   "outputs": [],
   "source": [
    "# coding: utf-8\n",
    "\n",
    "# In[1]:\n",
    "\n",
    "\n",
    "import pandas as pd\n",
    "import pymysql\n"
   ]
  },
  {
   "cell_type": "code",
   "execution_count": 48,
   "metadata": {
    "collapsed": true
   },
   "outputs": [],
   "source": [
    "# Connects to the database.\n",
    "def openMySqlConnection(host, port, dbname, user, password):\n",
    "    conn = pymysql.connect(host, user=user,port=port,passwd=password, db=dbname)\n",
    "    print(\"The connection is open\")\n",
    "    return conn\n"
   ]
  },
  {
   "cell_type": "code",
   "execution_count": 6,
   "metadata": {
    "collapsed": true
   },
   "outputs": [],
   "source": [
    "# Closes a connection to the database.\n",
    "def closeMySqlConnection(conn):\n",
    "    conn.close()\n",
    "    print(\"The connection is closed\")"
   ]
  },
  {
   "cell_type": "code",
   "execution_count": null,
   "metadata": {
    "collapsed": true
   },
   "outputs": [],
   "source": [
    "# Creates a new user\n",
    "def createUser(userName, userPass):\n",
    "    try:\n",
    "        conn = newConnection()\n",
    "        stmntNewUser = \"CREATE USER '\" + userName + \"'@'%'\" + \" IDENTIFIED BY '\" + userPass + \"';\"\n",
    "        with conn.cursor() as cursor:\n",
    "            sql = stmntNewUser\n",
    "            print(sql)\n",
    "            cursor.execute(sql)\n",
    "\n",
    "        with conn.cursor() as cursor:\n",
    "            sql = \"SELECT user FROM mysql.user\"\n",
    "            cursor.execute(sql)\n",
    "            result = cursor.fetchall()\n",
    "            print(result)\n",
    "    finally:\n",
    "        closeMySqlConnection(conn)\n",
    "        print(\"User created\")\n"
   ]
  },
  {
   "cell_type": "code",
   "execution_count": null,
   "metadata": {
    "collapsed": true
   },
   "outputs": [],
   "source": [
    "# Creates a new view\n",
    "def createView(tableName, viewName, columns):\n",
    "    stmnt = \"CREATE VIEW \" + viewName + \" AS SELECT \" + columns + \" FROM \" + tableName + \";\"\n",
    "    try:\n",
    "        conn = newConnection()\n",
    "        with conn.cursor() as cursor:\n",
    "            cursor.execute(stmnt)\n",
    "    finally:\n",
    "        closeMySqlConnection(conn)\n",
    "        print(\"View created\")\n"
   ]
  },
  {
   "cell_type": "code",
   "execution_count": null,
   "metadata": {
    "collapsed": true
   },
   "outputs": [],
   "source": [
    "# Creates the views that the user has selected\n",
    "def createView(tablenames, columnNames, viewName):\n",
    "    try:\n",
    "        conn = newConnection()\n",
    "        stmt = \"Create view \" + viewName + \" as select \" + tablenames[0]+\".POA_CODE_2016, \"\n",
    "        for i in columnNames:\n",
    "            if(i!=\"POA_CODE_2016\"):\n",
    "                stmt += i + \", \"\n",
    "        stmt=stmt[:-2]\n",
    "        stmt+= \" from \"\n",
    "        for i in tablenames:\n",
    "            stmt+= i + \", \"\n",
    "        stmt=stmt[:-2]\n",
    "        if(len(tablenames)>1):\n",
    "            stmt+= \" where \"\n",
    "            for j in range(len(tablenames)-1):\n",
    "               stmt+= tablenames[0]+\".POA_CODE_2016 = \" + tablenames[j+1] + \".POA_CODE_2016 AND \"\n",
    "        stmt=stmt[:-4]\n",
    "        with conn.cursor() as cursor:\n",
    "            print(stmt)\n",
    "            cursor.execute(stmt)\n",
    "            \"Executing statement...\"\n",
    "    finally:\n",
    "        closeMySqlConnection(conn)\n",
    "        print(\"View created\")\n"
   ]
  },
  {
   "cell_type": "code",
   "execution_count": null,
   "metadata": {
    "collapsed": true
   },
   "outputs": [],
   "source": [
    "#Gives permissions in a specif view\n",
    "def grantPermissions(databaseName, viewName, userName):\n",
    "    stmnt = \"GRANT ALL ON \" + databaseName + \".\" + viewName + \" TO '\" + userName + \"'@'%';\"\n",
    "    try:\n",
    "        conn = newConnection()\n",
    "        with conn.cursor() as cursor:\n",
    "            sql = stmnt\n",
    "            cursor.execute(sql)\n",
    "    finally:\n",
    "        closeMySqlConnection(conn)\n",
    "        print(\"Permission given\")\n"
   ]
  },
  {
   "cell_type": "code",
   "execution_count": null,
   "metadata": {
    "collapsed": true
   },
   "outputs": [],
   "source": [
    "#This function revokes permissions from a user\n",
    "def revokePermissions(userName):\n",
    "    stmnt = \"REVOKE ALL PRIVILEGES ON *.* FROM '\" + userName + \"'@'%';\"\n",
    "    try:\n",
    "        conn = newConnection()\n",
    "        with conn.cursor() as cursor:\n",
    "            sql = stmnt\n",
    "            cursor.execute(sql)\n",
    "    finally:\n",
    "        closeMySqlConnection(conn)\n",
    "        print(\"Permissions revoked\")"
   ]
  },
  {
   "cell_type": "code",
   "execution_count": 46,
   "metadata": {
    "collapsed": true
   },
   "outputs": [],
   "source": [
    "#This creates a connection to the database\n",
    "def newConnection():\n",
    "    host = \"datasparkdb.cbbvbxlm9nap.us-east-1.rds.amazonaws.com\"\n",
    "    port = 3306\n",
    "    dbname = \"DataSparkDataBase\"\n",
    "    user = \"aarasu\"\n",
    "    password = \"aabbccdd1234\"\n",
    "    conn = openMySqlConnection(host, port, dbname, user, password)\n",
    "    return conn"
   ]
  },
  {
   "cell_type": "code",
   "execution_count": null,
   "metadata": {
    "collapsed": true
   },
   "outputs": [],
   "source": [
    "#This function will \n",
    "def getTableNames(tclist):\n",
    "    tableList = []\n",
    "    uTableList = [item[0] for item in tclist]\n",
    "    for i in uTableList:\n",
    "        if i not in tableList:\n",
    "            tableList.append(i)\n",
    "    return tableList\n",
    "            "
   ]
  },
  {
   "cell_type": "code",
   "execution_count": null,
   "metadata": {
    "collapsed": true
   },
   "outputs": [],
   "source": [
    "def getColumnNames(tclist):\n",
    "    uColumnList = [item[1] for item in tclist]\n",
    "    return uColumnList"
   ]
  },
  {
   "cell_type": "code",
   "execution_count": 36,
   "metadata": {
    "collapsed": true
   },
   "outputs": [],
   "source": [
    "def getViewNames(username, password):\n",
    "    try:\n",
    "        conn = pymysql.connect(\"datasparkdb.cbbvbxlm9nap.us-east-1.rds.amazonaws.com\", user=username,port=3306,passwd=password, db=\"DataSparkDataBase\")\n",
    "        stmnt = \"SHOW FULL TABLES IN DataSparkDataBase WHERE TABLE_TYPE LIKE 'VIEW';\"\n",
    "        with conn.cursor() as cursor:\n",
    "            sql = stmnt\n",
    "            cursor.execute(sql)\n",
    "    finally:\n",
    "        closeMySqlConnection(conn)\n",
    "    viewNames = [i[0] for i in cursor.fetchall()]\n",
    "    return viewNames\n",
    "    \n",
    "    \n",
    "    "
   ]
  },
  {
   "cell_type": "code",
   "execution_count": 37,
   "metadata": {},
   "outputs": [
    {
     "name": "stdout",
     "output_type": "stream",
     "text": [
      "The connection is closed\n",
      "['G04V', 'G05V', 'erick_selected_tables_columns', 'german2_selected_tables_columns', 'german_selected_tables_columns', 'm10_selected_tables_columns', 'mustafa2_selected_tables_columns']\n"
     ]
    }
   ],
   "source": [
    "a=getViewNames(\"aarasu\", \"aabbccdd1234\")\n",
    "print(a)"
   ]
  },
  {
   "cell_type": "code",
   "execution_count": 33,
   "metadata": {},
   "outputs": [
    {
     "name": "stdout",
     "output_type": "stream",
     "text": [
      "('G04V', 'VIEW')\n"
     ]
    }
   ],
   "source": [
    "print(a[:][0])"
   ]
  },
  {
   "cell_type": "code",
   "execution_count": 43,
   "metadata": {
    "collapsed": true
   },
   "outputs": [],
   "source": [
    "# viewname is a list of views\n",
    "def viewsDelete(username, password, viewname): \n",
    "    try:\n",
    "        conn = pymysql.connect(\"datasparkdb.cbbvbxlm9nap.us-east-1.rds.amazonaws.com\", user=username,port=3306,passwd=password, db=\"DataSparkDataBase\")\n",
    "        stmnt = \"Drop VIEW if exists \"\n",
    "        for i in viewname:\n",
    "            stmnt= stmnt + i +\", \" \n",
    "        stmnt = stmnt[:-2]\n",
    "        with conn.cursor() as cursor:\n",
    "            sql = stmnt\n",
    "            cursor.execute(sql)\n",
    "    finally:\n",
    "        closeMySqlConnection(conn)\n",
    "    return \"views Deleted\"\n",
    "     "
   ]
  },
  {
   "cell_type": "code",
   "execution_count": 75,
   "metadata": {
    "collapsed": true
   },
   "outputs": [],
   "source": [
    "def userDelete(username, password):\n",
    "    try:\n",
    "        conn = newConnection()\n",
    "        stmnt_1 = \"DROP USER IF EXISTS '\"+username+\"'@'%' ;\"\n",
    "        userViews = getViewNames(username, password)\n",
    "        #UserViews_deleteStatus = viewsDelete(username, password, userviews)\n",
    "        \n",
    "        with conn.cursor() as cursor:\n",
    "            sql = stmnt_1\n",
    "            cursor.execute(sql)\n",
    "    finally:\n",
    "        closeMySqlConnection(conn)\n",
    "    \n",
    "            \n",
    "            \n",
    "            \n",
    "            "
   ]
  },
  {
   "cell_type": "code",
   "execution_count": 77,
   "metadata": {
    "collapsed": true
   },
   "outputs": [],
   "source": [
    "def userUpdatePassword(username, newPassword):\n",
    "    try:\n",
    "        conn = newConnection()\n",
    "        stmnt = \"ALTER USER '\"+username+\"'@'%' identified by '\"+newPassword+\"';\"\n",
    "        \n",
    "        with conn.cursor() as cursor:\n",
    "            sql = stmnt\n",
    "            cursor.execute(sql)\n",
    "    finally:\n",
    "        closeMySqlConnection(conn)\n",
    "    a = username+ \" password updated\"\n",
    "    return a\n",
    "            "
   ]
  },
  {
   "cell_type": "code",
   "execution_count": 78,
   "metadata": {},
   "outputs": [
    {
     "name": "stdout",
     "output_type": "stream",
     "text": [
      "The connection is open\n",
      "The connection is closed\n",
      "dummyuser1 password updated\n"
     ]
    }
   ],
   "source": [
    "u = userUpdatePassword('dummyuser1', 'abcdef1234')\n",
    "print(u)"
   ]
  },
  {
   "cell_type": "code",
   "execution_count": 76,
   "metadata": {},
   "outputs": [
    {
     "name": "stdout",
     "output_type": "stream",
     "text": [
      "The connection is open\n",
      "The connection is closed\n",
      "The connection is closed\n"
     ]
    }
   ],
   "source": [
    "userDelete(\"dummyuser1\",\"aabbccdd1234\")"
   ]
  },
  {
   "cell_type": "code",
   "execution_count": null,
   "metadata": {
    "collapsed": true
   },
   "outputs": [],
   "source": []
  }
 ],
 "metadata": {
  "kernelspec": {
   "display_name": "Python 3",
   "language": "python",
   "name": "python3"
  },
  "language_info": {
   "codemirror_mode": {
    "name": "ipython",
    "version": 3
   },
   "file_extension": ".py",
   "mimetype": "text/x-python",
   "name": "python",
   "nbconvert_exporter": "python",
   "pygments_lexer": "ipython3",
   "version": "3.6.3"
  }
 },
 "nbformat": 4,
 "nbformat_minor": 2
}
